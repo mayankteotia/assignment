{
 "cells": [
  {
   "cell_type": "markdown",
   "id": "34885091-0880-4240-9e8c-02cff2f9e93d",
   "metadata": {},
   "source": [
    "Question 1 ->\n",
    "Ans ->\n",
    "In Python, methods and functions have similar purposes but differ in important ways. Functions are independent blocks of code that can be called from anywhere, while methods are tied to objects or classes and need an object or class instance to be invoked."
   ]
  },
  {
   "cell_type": "markdown",
   "id": "a2e33080-e9c5-4b66-b5c1-a8ec6c871cf4",
   "metadata": {},
   "source": [
    "question 2 ->\n",
    "The terms parameter and argument can be used for the same thing: information that are passed into a function. From a function's perspective: A parameter is the variable listed inside the parentheses in the function definition. An argument is the value that is sent to the function when it is called."
   ]
  },
  {
   "cell_type": "markdown",
   "id": "0c489057-9489-49f0-bc31-2fb370a9a317",
   "metadata": {},
   "source": [
    "Question 3 ->,\n",
    "The four steps to defining a function in Python are the following: Use the keyword def to declare the function and follow this up with the function name. Add parameters to the function: they should be within the parentheses of the function. End your line with a colon. Add statements that the functions should execute"
   ]
  },
  {
   "cell_type": "markdown",
   "id": "fd67b708-8bad-4307-83c3-62ae4f6cfc60",
   "metadata": {},
   "source": [
    "Question 4 ->\n",
    "The python return statement is used to return the output from a function.\n"
   ]
  },
  {
   "cell_type": "code",
   "execution_count": 2,
   "id": "62cb3363-510c-423c-874f-17ae25bad1ce",
   "metadata": {},
   "outputs": [
    {
     "name": "stdin",
     "output_type": "stream",
     "text": [
      "enter the number  5\n"
     ]
    },
    {
     "name": "stdout",
     "output_type": "stream",
     "text": [
      "25\n"
     ]
    }
   ],
   "source": [
    "def sqare(a):\n",
    "    return a*a\n",
    "i=int(input(\"enter the number \"))\n",
    "ans=sqare(i)\n",
    "print(ans)"
   ]
  },
  {
   "cell_type": "markdown",
   "id": "9a8ccb40-c3d1-4100-a698-255a63bddfad",
   "metadata": {},
   "source": [
    "question 5->\n",
    "An Iterable is basically an object that any user can iterate over. An Iterator is also an object that helps a user in iterating over another object. \n",
    "We can generate an iterator when we pass the object to the iter() method."
   ]
  },
  {
   "cell_type": "markdown",
   "id": "b8c34847-57da-49b1-9e6a-cff7e3cd03ab",
   "metadata": {},
   "source": [
    "question 6 ->\n",
    "A generator function in Python is defined like a normal function, but whenever it needs to generate a value, it does so with the yield keyword rather than return. "
   ]
  },
  {
   "cell_type": "markdown",
   "id": "43bd7b15-0674-4bbb-89eb-e2fded52d84e",
   "metadata": {},
   "source": [
    "question 7 ->\n",
    "Generators avoid creating a list or other data structure in memory to store the values as they are produced, instead replacing them one by one over time. This makes them more efficient than loops for large datasets and allows for code that runs in linear time.\n"
   ]
  },
  {
   "cell_type": "markdown",
   "id": "ee6f94b5-9ef5-4e72-a662-18262839a097",
   "metadata": {},
   "source": [
    "question 8 ->\n",
    "Lambda functions are similar to user-defined functions but without a name. "
   ]
  },
  {
   "cell_type": "code",
   "execution_count": 3,
   "id": "9a0f9883-a080-4568-b865-070a83a56b65",
   "metadata": {},
   "outputs": [
    {
     "name": "stdout",
     "output_type": "stream",
     "text": [
      "Using lambda function, cube: 125\n"
     ]
    }
   ],
   "source": [
    "lambda_cube = lambda y: y*y*y\n",
    "print(\"Using lambda function, cube:\", lambda_cube(5))\n"
   ]
  },
  {
   "cell_type": "markdown",
   "id": "5345686a-c842-411c-963d-3a1ba1b13fa3",
   "metadata": {},
   "source": [
    "question 9 ->\n",
    "Map in Python is a function that works as an iterator to return a result after applying a function to every item of an iterable.\n",
    "It is used when you want to apply a single transformation function to all the iterable elements.\n"
   ]
  },
  {
   "cell_type": "markdown",
   "id": "3ff3226b-6f24-4dd3-ada2-9b1c929d2ea0",
   "metadata": {},
   "source": [
    "question 10 ->\n",
    "map() is used to apply a given function to each element of an iterable and returns a new iterable with the results. filter() is used to filter elements from an iterable based on a given condition or function and returns a new iterable with the filtered elements.\n",
    "The reduce() function in Python performs cumulative operations on iterables. It takes two main arguments: a function and an iterable. By applying the function cumulatively to the iterable's elements, reduce() reduces them to a single value"
   ]
  }
 ],
 "metadata": {
  "kernelspec": {
   "display_name": "Python 3 (ipykernel)",
   "language": "python",
   "name": "python3"
  },
  "language_info": {
   "codemirror_mode": {
    "name": "ipython",
    "version": 3
   },
   "file_extension": ".py",
   "mimetype": "text/x-python",
   "name": "python",
   "nbconvert_exporter": "python",
   "pygments_lexer": "ipython3",
   "version": "3.10.8"
  }
 },
 "nbformat": 4,
 "nbformat_minor": 5
}
