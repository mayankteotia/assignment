{
 "cells": [
  {
   "cell_type": "code",
   "execution_count": 1,
   "id": "8d8b4639-3b14-409d-b9c5-70b185a51243",
   "metadata": {},
   "outputs": [
    {
     "name": "stdout",
     "output_type": "stream",
     "text": [
      "even 4\n",
      "even 6\n"
     ]
    }
   ],
   "source": [
    "#quesion 1 ->\n",
    "\n",
    "def check(x=[]):\n",
    "    lst=[]\n",
    "    i=0\n",
    "    while(i<3):\n",
    "        if(x[i]%2==0):\n",
    "            print(\"even\" ,x[i])\n",
    "        i+=1 \n",
    "\n",
    "a=[1,4,6]\n",
    "check(a)\n",
    "    "
   ]
  },
  {
   "cell_type": "code",
   "execution_count": 2,
   "id": "2eb7362c-433f-4733-92b5-3e26d819dd87",
   "metadata": {},
   "outputs": [
    {
     "name": "stdout",
     "output_type": "stream",
     "text": [
      "dlroW olleH\n"
     ]
    }
   ],
   "source": [
    "#question 2 ->\n",
    "txt = \"Hello World\"[::-1]\n",
    "print(txt)"
   ]
  },
  {
   "cell_type": "code",
   "execution_count": 2,
   "id": "a300563c-256b-4b01-9ab6-4d10757dfb18",
   "metadata": {},
   "outputs": [
    {
     "name": "stdout",
     "output_type": "stream",
     "text": [
      "[1, 4, 9, 16]\n"
     ]
    }
   ],
   "source": [
    "#question 3 ->\n",
    "#question 3 ->\n",
    "def suare(x=[]):\n",
    "    a=[]\n",
    "    i=0\n",
    "    while(i<4):\n",
    "        a.append(x[i]**2)\n",
    "        i+=1\n",
    "    return a    \n",
    "lst=[1,2,3,4]\n",
    "ans=suare(lst)\n",
    "print(ans)"
   ]
  },
  {
   "cell_type": "code",
   "execution_count": 4,
   "id": "1f903c6d-c608-4b22-8518-07e29802a1f0",
   "metadata": {},
   "outputs": [
    {
     "name": "stdin",
     "output_type": "stream",
     "text": [
      "enter the number to check  45\n"
     ]
    },
    {
     "name": "stdout",
     "output_type": "stream",
     "text": [
      "not \n"
     ]
    }
   ],
   "source": [
    "#question 4->\n",
    " \n",
    "num=int(input(\"enter the number to check \"))\n",
    "count =0\n",
    "i=2\n",
    "while(i<num/2):\n",
    "    if(num%i==0):\n",
    "        count+=1\n",
    "    i+=1    \n",
    "\n",
    "if(count==0):\n",
    "    print(\"number is prime\")    \n",
    "else:\n",
    "    print(\"not \")    "
   ]
  },
  {
   "cell_type": "code",
   "execution_count": 5,
   "id": "d0bb10c0-cb24-456f-a439-668bb1a1c3b2",
   "metadata": {},
   "outputs": [
    {
     "name": "stdin",
     "output_type": "stream",
     "text": [
      "enter the number till you want 45\n"
     ]
    },
    {
     "name": "stdout",
     "output_type": "stream",
     "text": [
      "0\n",
      "1\n",
      "1\n",
      "2\n",
      "3\n",
      "5\n",
      "8\n",
      "13\n",
      "21\n",
      "34\n"
     ]
    }
   ],
   "source": [
    "#question 5 ->\n",
    "\n",
    "n = int(input(\"enter the number till you want\"))\n",
    "a=0\n",
    "b=1\n",
    "c=a+b\n",
    "print(a)\n",
    "print(b)\n",
    "while(c<n):\n",
    "    print(c)\n",
    "    a=b\n",
    "    b=c\n",
    "    c=a+b\n",
    "    "
   ]
  },
  {
   "cell_type": "code",
   "execution_count": 6,
   "id": "a4488dec-e6d2-495c-b5e2-1e23c6244bf7",
   "metadata": {},
   "outputs": [
    {
     "name": "stdout",
     "output_type": "stream",
     "text": [
      "1\n",
      "2\n",
      "4\n",
      "8\n",
      "16\n",
      "32\n"
     ]
    }
   ],
   "source": [
    "#question 6 ->\n",
    "def powers_of_two(max_exponent):\n",
    "    exponent = 0\n",
    "    while exponent <= max_exponent:\n",
    "        yield 2 ** exponent\n",
    "        exponent += 1\n",
    "\n",
    "# Example usage:\n",
    "for power in powers_of_two(5):\n",
    "    print(power)\n"
   ]
  },
  {
   "cell_type": "code",
   "execution_count": 10,
   "id": "e15dcdc6-766b-4fbb-bab1-4fb82b29771c",
   "metadata": {},
   "outputs": [
    {
     "name": "stdout",
     "output_type": "stream",
     "text": [
      "[(3, 'a'), (1, 'b'), (2, 'c')]\n"
     ]
    }
   ],
   "source": [
    "#question 8 ->\n",
    "\n",
    "data = [(1, 'b'), (3, 'a'), (2, 'c')]\n",
    "sorted_data = sorted(data, key=lambda x: x[1])\n",
    "\n",
    "print(sorted_data)\n"
   ]
  },
  {
   "cell_type": "code",
   "execution_count": 11,
   "id": "4ee2e19d-9075-4904-a6fe-68f9442ecb3e",
   "metadata": {},
   "outputs": [
    {
     "name": "stdout",
     "output_type": "stream",
     "text": [
      "Celsius temperatures: [0, 20, 37, 100]\n",
      "Fahrenheit temperatures: [32.0, 68.0, 98.6, 212.0]\n"
     ]
    }
   ],
   "source": [
    "#question 9 ->\n",
    "def celsius_to_fahrenheit(celsius):\n",
    "    return celsius * 9/5 + 32\n",
    "\n",
    "\n",
    "celsius_temperatures = [0, 20, 37, 100]\n",
    "\n",
    "\n",
    "fahrenheit_temperatures = list(map(celsius_to_fahrenheit, celsius_temperatures))\n",
    "\n",
    "# Print the result\n",
    "print(\"Celsius temperatures:\", celsius_temperatures)\n",
    "print(\"Fahrenheit temperatures:\", fahrenheit_temperatures)\n"
   ]
  },
  {
   "cell_type": "code",
   "execution_count": 12,
   "id": "74bc106b-1bc9-4617-ad87-95e65d49010b",
   "metadata": {},
   "outputs": [
    {
     "name": "stdout",
     "output_type": "stream",
     "text": [
      "Original string: Hello, World!\n",
      "String without vowels: Hll, Wrld!\n"
     ]
    }
   ],
   "source": [
    "#question 10 ->\n",
    "# Function to remove vowels\n",
    "def remove_vowels(input_string):\n",
    "    \n",
    "    vowels = {'a', 'e', 'i', 'o', 'u', 'A', 'E', 'I', 'O', 'U'}\n",
    "    \n",
    "    \n",
    "    return ''.join(filter(lambda char: char not in vowels, input_string))\n",
    "\n",
    "\n",
    "input_string = \"Hello, World!\"\n",
    "output_string = remove_vowels(input_string)\n",
    "\n",
    "print(\"Original string:\", input_string)\n",
    "print(\"String without vowels:\", output_string)\n"
   ]
  },
  {
   "cell_type": "code",
   "execution_count": 13,
   "id": "7de8a001-3271-44ea-ae5e-547a9fdc666b",
   "metadata": {},
   "outputs": [
    {
     "name": "stdout",
     "output_type": "stream",
     "text": [
      "Processed Orders:  [(34587, 163.8), (98762, 284.0), (77226, 108.85000000000001), (88112, 84.97)]\n"
     ]
    }
   ],
   "source": [
    "#Question 11 ->\n",
    "orders = [\n",
    "\n",
    "    [34587, \"Learning Python, Mark Lutz\", 4, 40.95],\n",
    "\n",
    "    [98762, \"Programming Python, Mark Lutz\", 5, 56.80],\n",
    "\n",
    "    [77226, \"Head First Python, Paul Barry\", 3, 32.95],\n",
    "\n",
    "    [88112, \"Einführung in Python3, Bernd Klein\", 3, 24.99],\n",
    "\n",
    "]\n",
    "\n",
    "\n",
    "\n",
    "processed_orders = list(map(lambda order: (order[0], (order[2] * order[3]) + 10 if (order[2] * order[3]) < 100 else (order[2] * order[3])), orders))\n",
    "\n",
    "\n",
    "\n",
    "print(\"Processed Orders: \", processed_orders)"
   ]
  },
  {
   "cell_type": "code",
   "execution_count": null,
   "id": "9bca3d36-9280-4bf8-9e1f-9b758b062e5f",
   "metadata": {},
   "outputs": [],
   "source": []
  }
 ],
 "metadata": {
  "kernelspec": {
   "display_name": "Python 3 (ipykernel)",
   "language": "python",
   "name": "python3"
  },
  "language_info": {
   "codemirror_mode": {
    "name": "ipython",
    "version": 3
   },
   "file_extension": ".py",
   "mimetype": "text/x-python",
   "name": "python",
   "nbconvert_exporter": "python",
   "pygments_lexer": "ipython3",
   "version": "3.10.8"
  }
 },
 "nbformat": 4,
 "nbformat_minor": 5
}
